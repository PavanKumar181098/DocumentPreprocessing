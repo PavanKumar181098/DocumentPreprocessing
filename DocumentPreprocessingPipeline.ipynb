{
 "cells": [
  {
   "cell_type": "code",
   "execution_count": 6,
   "id": "5a0ba228",
   "metadata": {},
   "outputs": [],
   "source": [
    "#all the necessary imports \n",
    "from PyPDF2 import PdfReader\n",
    "import re\n",
    "import os\n",
    "from dotenv import load_dotenv"
   ]
  },
  {
   "cell_type": "code",
   "execution_count": 11,
   "id": "f5d696c7",
   "metadata": {},
   "outputs": [
    {
     "ename": "OSError",
     "evalue": "[Errno 22] Invalid argument: 'r\"C:\\\\Users\\\\Soma Pavan Kumar\\\\OneDrive\\\\Documents\\\\Books\\\\Robert Greene - The Daily Laws_ 366 Meditations on Power, Seduction, Mastery, Strategy, and Human Nature-Penguin Publishing Group (2021) (1).pdf\"'",
     "output_type": "error",
     "traceback": [
      "\u001b[1;31m---------------------------------------------------------------------------\u001b[0m",
      "\u001b[1;31mOSError\u001b[0m                                   Traceback (most recent call last)",
      "Cell \u001b[1;32mIn[11], line 4\u001b[0m\n\u001b[0;32m      2\u001b[0m load_dotenv()\n\u001b[0;32m      3\u001b[0m docu_path \u001b[38;5;241m=\u001b[39m os\u001b[38;5;241m.\u001b[39mgetenv(\u001b[38;5;124m\"\u001b[39m\u001b[38;5;124mDOCU_PATH\u001b[39m\u001b[38;5;124m\"\u001b[39m)\n\u001b[1;32m----> 4\u001b[0m reader \u001b[38;5;241m=\u001b[39m \u001b[43mPdfReader\u001b[49m\u001b[43m(\u001b[49m\u001b[43mdocu_path\u001b[49m\u001b[43m)\u001b[49m\n\u001b[0;32m      6\u001b[0m number_of_pages \u001b[38;5;241m=\u001b[39m \u001b[38;5;28mlen\u001b[39m(reader\u001b[38;5;241m.\u001b[39mpages)\n\u001b[0;32m      7\u001b[0m \u001b[38;5;28mprint\u001b[39m(number_of_pages)\n",
      "File \u001b[1;32mc:\\Users\\Soma Pavan Kumar\\DocumentPreporcessing\\.venv\\lib\\site-packages\\PyPDF2\\_reader.py:317\u001b[0m, in \u001b[0;36mPdfReader.__init__\u001b[1;34m(self, stream, strict, password)\u001b[0m\n\u001b[0;32m    311\u001b[0m     logger_warning(\n\u001b[0;32m    312\u001b[0m         \u001b[38;5;124m\"\u001b[39m\u001b[38;5;124mPdfReader stream/file object is not in binary mode. \u001b[39m\u001b[38;5;124m\"\u001b[39m\n\u001b[0;32m    313\u001b[0m         \u001b[38;5;124m\"\u001b[39m\u001b[38;5;124mIt may not be read correctly.\u001b[39m\u001b[38;5;124m\"\u001b[39m,\n\u001b[0;32m    314\u001b[0m         \u001b[38;5;18m__name__\u001b[39m,\n\u001b[0;32m    315\u001b[0m     )\n\u001b[0;32m    316\u001b[0m \u001b[38;5;28;01mif\u001b[39;00m \u001b[38;5;28misinstance\u001b[39m(stream, (\u001b[38;5;28mstr\u001b[39m, Path)):\n\u001b[1;32m--> 317\u001b[0m     \u001b[38;5;28;01mwith\u001b[39;00m \u001b[38;5;28;43mopen\u001b[39;49m\u001b[43m(\u001b[49m\u001b[43mstream\u001b[49m\u001b[43m,\u001b[49m\u001b[43m \u001b[49m\u001b[38;5;124;43m\"\u001b[39;49m\u001b[38;5;124;43mrb\u001b[39;49m\u001b[38;5;124;43m\"\u001b[39;49m\u001b[43m)\u001b[49m \u001b[38;5;28;01mas\u001b[39;00m fh:\n\u001b[0;32m    318\u001b[0m         stream \u001b[38;5;241m=\u001b[39m BytesIO(fh\u001b[38;5;241m.\u001b[39mread())\n\u001b[0;32m    319\u001b[0m \u001b[38;5;28mself\u001b[39m\u001b[38;5;241m.\u001b[39mread(stream)\n",
      "\u001b[1;31mOSError\u001b[0m: [Errno 22] Invalid argument: 'r\"C:\\\\Users\\\\Soma Pavan Kumar\\\\OneDrive\\\\Documents\\\\Books\\\\Robert Greene - The Daily Laws_ 366 Meditations on Power, Seduction, Mastery, Strategy, and Human Nature-Penguin Publishing Group (2021) (1).pdf\"'"
     ]
    }
   ],
   "source": [
    "#document source and extraction of text using PdfReader\n",
    "load_dotenv()\n",
    "docu_path = os.getenv(\"DOCU_PATH\")\n",
    "reader = PdfReader(docu_path)\n",
    "\n",
    "number_of_pages = len(reader.pages)\n",
    "print(number_of_pages)"
   ]
  },
  {
   "cell_type": "markdown",
   "id": "c0ead51b",
   "metadata": {},
   "source": [
    "#### Document Cleaning strategy - \n",
    "1. Remove all date lines"
   ]
  },
  {
   "cell_type": "code",
   "execution_count": null,
   "id": "e12dd381",
   "metadata": {},
   "outputs": [],
   "source": [
    "#proceeding with document cleaning\n",
    "\n",
    "def date_line_remover(text): \n",
    "    date_pattern = r'[A-Z]{3,9} \\d{1,2}$'\n",
    "    lines = text.strip().split('\\n')\n",
    "\n",
    "    date_lines = [line for line in lines if not re.match(date_pattern, line.strip())]\n",
    "    page_text = '\\n'.join(date_lines)\n",
    "    return page_text\n"
   ]
  },
  {
   "cell_type": "code",
   "execution_count": null,
   "id": "b9e3a600",
   "metadata": {},
   "outputs": [],
   "source": [
    "#extracting tables \n",
    "import pdfplumber\n",
    "\n",
    "def extract_tables_from_pdf(docu_path):\n",
    "    tables = []\n",
    "    with pdfplumber.open(docu_path) as pdf:\n",
    "        for i, page in enumerate(pdf.pages):\n",
    "            page_tables = page.extract_tables()\n",
    "            for table in page_tables:\n",
    "                tables.append({\n",
    "                    \"page\" : i+1,\n",
    "                    \"table\" : table})\n",
    "    return tables\n",
    "\n",
    "#convert the the tables into pandas dataframe"
   ]
  },
  {
   "cell_type": "code",
   "execution_count": null,
   "id": "bf2f871b",
   "metadata": {},
   "outputs": [],
   "source": [
    "#chunk creation function\n",
    "\n",
    "def chunk_function(text, chunk_size = 200, chunk_overlap = 30):\n",
    "    metadata = text.split('\\n', 1)[0]\n",
    "    text = text.strip().split()\n",
    "    chunks = []\n",
    "    for i in range(0, len(text), chunk_size - chunk_overlap):\n",
    "        chunks.append(\" \".join(text[i:i+chunk_size]))\n",
    "    return chunks, metadata\n"
   ]
  },
  {
   "cell_type": "code",
   "execution_count": null,
   "id": "6de5c266",
   "metadata": {},
   "outputs": [
    {
     "name": "stdout",
     "output_type": "stream",
     "text": [
      "['JANUARY 6\\nChange Is the Law\\nIn dealin g with your career and its inevitable changes, you must  think in the\\nfollowing way: You are not tied to a particular position; your loyalty is not\\nto a career or a company . You are committed to your Life’ s Task, to giving\\nit full expression. It is up to you to find it and guide it correctly . It is not up\\nto others to protect or help you. You are on your own. Change is inevitable,\\nparticularly in such a revolutionary moment as ours. Since you are on your\\nown, it is up to you to foresee the changes going on right now in your\\nprofession. You must adapt your Life’ s Task to these circumstances. You do\\nnot hold on to past ways of doing things, because that will ensure you will\\nfall behind and suffer for it. You are flexible and always looking to adapt. If\\nchange is forced  upon you, you must resist the temptation to overreact or\\nfeel sorry for yourself. Before he became the great boxing trainer , Freddie\\nRoach was forced to retire from boxing. He instinctively found his way\\nback to the ring because he understood that what he loved was not boxing\\nper se, but competitive sports and strategizing. Thinking in this way, he\\ncould adapt his inclinations to a new direction within boxing. Like Roach,\\nyou don’t want to abandon the skills and experience you have gained, but to\\nfind a new way to apply them. Your eye is on the future, not the past. Often\\nsuch creative readjustments lead to a superior path for us—we are shaken\\nout of our complacency and forced to reassess where we are headed.\\nDaily Law: Adapt your inclinations. Avoid having rigid goals and dreams. Change is the\\nlaw.\\nMastery, I: Discover Your Calling—The Life’s Task']\n"
     ]
    }
   ],
   "source": [
    "#collecting all pages in a list and then passing through data cleaning\n",
    "pages = [page.extract_text() for page in reader.pages]\n",
    "all_chunks = []\n",
    "for i, page in enumerate(pages):\n",
    "    page = date_line_remover(page)\n",
    "    page_chunks, metadata = chunk_function(page)\n",
    "    all_chunks.extend({\"chunk\" : chunk, \"page\" : i+1, \"chunk_Id\" : j, \"metadata\" : metadata} for j, chunk in enumerate(page_chunks))    "
   ]
  },
  {
   "cell_type": "code",
   "execution_count": null,
   "id": "6cd51a2e",
   "metadata": {},
   "outputs": [],
   "source": []
  }
 ],
 "metadata": {
  "kernelspec": {
   "display_name": ".venv",
   "language": "python",
   "name": "python3"
  },
  "language_info": {
   "codemirror_mode": {
    "name": "ipython",
    "version": 3
   },
   "file_extension": ".py",
   "mimetype": "text/x-python",
   "name": "python",
   "nbconvert_exporter": "python",
   "pygments_lexer": "ipython3",
   "version": "3.10.10"
  }
 },
 "nbformat": 4,
 "nbformat_minor": 5
}
